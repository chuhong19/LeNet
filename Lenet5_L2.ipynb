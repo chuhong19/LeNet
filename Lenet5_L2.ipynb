{
  "cells": [
    {
      "cell_type": "markdown",
      "source": [
        "# Mount Drive"
      ],
      "metadata": {
        "id": "StXzUMYGjsvG"
      }
    },
    {
      "cell_type": "code",
      "source": [
        "from google.colab import drive\n",
        "drive.mount(\"/content/drive\")"
      ],
      "metadata": {
        "id": "mWxkGArtjs-O",
        "colab": {
          "base_uri": "https://localhost:8080/"
        },
        "outputId": "7b2f0ff0-8212-4424-9de0-a5686790efd8"
      },
      "execution_count": null,
      "outputs": [
        {
          "output_type": "stream",
          "name": "stdout",
          "text": [
            "Drive already mounted at /content/drive; to attempt to forcibly remount, call drive.mount(\"/content/drive\", force_remount=True).\n"
          ]
        }
      ]
    },
    {
      "cell_type": "markdown",
      "source": [
        "# Import Library"
      ],
      "metadata": {
        "id": "TW_8v5GTjxn9"
      }
    },
    {
      "cell_type": "code",
      "execution_count": null,
      "metadata": {
        "id": "wKywfyUQdPxD"
      },
      "outputs": [],
      "source": [
        "import numpy as np\n",
        "import matplotlib.pyplot as plt\n",
        "import pandas as pd\n",
        "import keras \n",
        "import tensorflow as tf\n",
        "from keras.models import Sequential\n",
        "from keras.layers import Conv2D,MaxPooling2D,Flatten,Dense,Dropout\n",
        "from tensorflow.keras.utils import to_categorical\n",
        "from sklearn.model_selection import train_test_split\n",
        "from tensorflow.keras.optimizers import RMSprop, SGD, Adagrad, Adadelta, Adam, Adamax, Nadam\n",
        "from sklearn.metrics import confusion_matrix\n",
        "import itertools"
      ]
    },
    {
      "cell_type": "markdown",
      "source": [
        "# Dataset"
      ],
      "metadata": {
        "id": "c5G_Apk-j218"
      }
    },
    {
      "cell_type": "code",
      "execution_count": null,
      "metadata": {
        "id": "xlqPX58RezAR"
      },
      "outputs": [],
      "source": [
        "!cp /content/drive/MyDrive/HCMUS/CDTGMT/Project2/FashionMNIST/fashion-mnist_test.csv /content"
      ]
    },
    {
      "cell_type": "code",
      "execution_count": null,
      "metadata": {
        "id": "4ScxuofqgF_7"
      },
      "outputs": [],
      "source": [
        "!cp /content/drive/MyDrive/HCMUS/CDTGMT/Project2/FashionMNIST/fashion-mnist_train.csv /content"
      ]
    },
    {
      "cell_type": "code",
      "execution_count": null,
      "metadata": {
        "id": "7x5oUwEmJFtb"
      },
      "outputs": [],
      "source": [
        "train = pd.read_csv(\"fashion-mnist_train.csv\")\n",
        "test = pd.read_csv(\"fashion-mnist_test.csv\")"
      ]
    },
    {
      "cell_type": "markdown",
      "source": [
        "# Preprocess Data "
      ],
      "metadata": {
        "id": "SwfztWaakArG"
      }
    },
    {
      "cell_type": "code",
      "execution_count": null,
      "metadata": {
        "id": "gsjM2ghDOBqN"
      },
      "outputs": [],
      "source": [
        "labels = [\"T-shirt/top\",\"Trouser\", \"Pullover\", \"Dress\",\"Coat\",\n",
        "       \"Sandal\", \"Shirt\",\"Sneaker\",\"Bag\", \"Ankle Boot\"]\n",
        "\n",
        "height = 28\n",
        "width = 28\n",
        "channel = 1"
      ]
    },
    {
      "cell_type": "code",
      "execution_count": null,
      "metadata": {
        "id": "NHRXeXkWOMyz"
      },
      "outputs": [],
      "source": [
        "def preprocess_data(data):\n",
        "    y_output = to_categorical(data.label, num_classes=10, dtype=\"float32\")\n",
        "    x_output = np.array(data.values[:,1:])\n",
        "   \n",
        "    #Normalize data\n",
        "    x_output = x_output.reshape(data.shape[0], height, width, channel)\n",
        "    x_output = np.pad(x_output, ((0,0),(2,2),(2,2),(0,0)), 'constant')\n",
        "    x_output = x_output/255\n",
        "    \n",
        "    return x_output, y_output"
      ]
    },
    {
      "cell_type": "code",
      "execution_count": null,
      "metadata": {
        "id": "YQBEmJHPOWQk"
      },
      "outputs": [],
      "source": [
        "X_train, Y_train = preprocess_data(train)\n",
        "X_test, Y_test = preprocess_data(test)"
      ]
    },
    {
      "cell_type": "markdown",
      "source": [
        "# Model "
      ],
      "metadata": {
        "id": "kHl0Q458kOZm"
      }
    },
    {
      "cell_type": "code",
      "execution_count": null,
      "metadata": {
        "id": "wa_jfmzvOg2g",
        "colab": {
          "base_uri": "https://localhost:8080/"
        },
        "outputId": "63513200-b911-41a8-858e-e64bd0a4d3d2"
      },
      "outputs": [
        {
          "output_type": "stream",
          "name": "stdout",
          "text": [
            "Model: \"sequential\"\n",
            "_________________________________________________________________\n",
            " Layer (type)                Output Shape              Param #   \n",
            "=================================================================\n",
            " conv2d (Conv2D)             (None, 28, 28, 6)         156       \n",
            "                                                                 \n",
            " max_pooling2d (MaxPooling2D  (None, 14, 14, 6)        0         \n",
            " )                                                               \n",
            "                                                                 \n",
            " conv2d_1 (Conv2D)           (None, 10, 10, 16)        2416      \n",
            "                                                                 \n",
            " max_pooling2d_1 (MaxPooling  (None, 5, 5, 16)         0         \n",
            " 2D)                                                             \n",
            "                                                                 \n",
            " flatten (Flatten)           (None, 400)               0         \n",
            "                                                                 \n",
            " dense (Dense)               (None, 120)               48120     \n",
            "                                                                 \n",
            " dense_1 (Dense)             (None, 84)                10164     \n",
            "                                                                 \n",
            " dropout (Dropout)           (None, 84)                0         \n",
            "                                                                 \n",
            " dense_2 (Dense)             (None, 10)                850       \n",
            "                                                                 \n",
            "=================================================================\n",
            "Total params: 61,706\n",
            "Trainable params: 61,706\n",
            "Non-trainable params: 0\n",
            "_________________________________________________________________\n"
          ]
        }
      ],
      "source": [
        "# LeNet5\n",
        "model = Sequential()\n",
        "model.add(Conv2D(filters = 6, \n",
        "                  kernel_size = 5, \n",
        "                  strides = 1, \n",
        "                  activation = 'relu', \n",
        "                  input_shape = (32,32,1))) \n",
        "model.add(MaxPooling2D(pool_size = 2, strides = 2))\n",
        "model.add(Conv2D(filters =16 , \n",
        "                  kernel_size = 5,\n",
        "                  strides = 1,\n",
        "                  activation = 'relu',\n",
        "                  input_shape = (14,14,6)))\n",
        "model.add(MaxPooling2D(pool_size = 2, strides = 2))\n",
        "model.add(Flatten())\n",
        "model.add(Dense(units = 120, activation = 'relu'))\n",
        "model.add(Dense(units = 84, activation = 'relu'))\n",
        "model.add(Dropout(0.5)) \n",
        "model.add(Dense(units = 10, activation = 'softmax'))\n",
        "model.compile(optimizer =Adamax(learning_rate=0.005), # optimizer = ['SGD', 'RMSprop', 'Adagrad', 'Adadelta', 'Adam', 'Adamax', 'Nadam']\n",
        "              loss = 'categorical_crossentropy', \n",
        "              metrics = ['accuracy'])\n",
        "model.summary()\n",
        "\n",
        "#callbacks\n",
        "reduce_lr = tf.keras.callbacks.ReduceLROnPlateau(\n",
        "    monitor='accuracy', \n",
        "    patience=5, \n",
        "    verbose=1, \n",
        "    factor=0.5, \n",
        "    min_lr=1e-6) \n",
        "\n",
        "early_stop = tf.keras.callbacks.EarlyStopping(\n",
        "    monitor=\"loss\",\n",
        "    min_delta=0, \n",
        "    patience=10, \n",
        "    verbose=0,\n",
        "    mode=\"auto\") "
      ]
    },
    {
      "cell_type": "markdown",
      "source": [
        "# Train Model  "
      ],
      "metadata": {
        "id": "c-G6BbYAkRxK"
      }
    },
    {
      "cell_type": "code",
      "execution_count": null,
      "metadata": {
        "id": "JP3G6Mrgc-1O",
        "colab": {
          "base_uri": "https://localhost:8080/"
        },
        "outputId": "98bb89e2-0f82-42d4-c498-5ef2f17ebbb7"
      },
      "outputs": [
        {
          "output_type": "stream",
          "name": "stdout",
          "text": [
            "Epoch 1/10\n",
            "1500/1500 [==============================] - 35s 22ms/step - loss: 0.5870 - accuracy: 0.7911 - lr: 0.0050\n",
            "Epoch 2/10\n",
            "1500/1500 [==============================] - 32s 22ms/step - loss: 0.3949 - accuracy: 0.8620 - lr: 0.0050\n",
            "Epoch 3/10\n",
            "1500/1500 [==============================] - 33s 22ms/step - loss: 0.3454 - accuracy: 0.8776 - lr: 0.0050\n",
            "Epoch 4/10\n",
            "1500/1500 [==============================] - 32s 21ms/step - loss: 0.3205 - accuracy: 0.8866 - lr: 0.0050\n",
            "Epoch 5/10\n",
            "1500/1500 [==============================] - 32s 21ms/step - loss: 0.2956 - accuracy: 0.8940 - lr: 0.0050\n",
            "Epoch 6/10\n",
            "1500/1500 [==============================] - 32s 21ms/step - loss: 0.2805 - accuracy: 0.9004 - lr: 0.0050\n",
            "Epoch 7/10\n",
            "1500/1500 [==============================] - 32s 21ms/step - loss: 0.2624 - accuracy: 0.9059 - lr: 0.0050\n",
            "Epoch 8/10\n",
            "1500/1500 [==============================] - 32s 21ms/step - loss: 0.2556 - accuracy: 0.9081 - lr: 0.0050\n",
            "Epoch 9/10\n",
            "1500/1500 [==============================] - 32s 21ms/step - loss: 0.2461 - accuracy: 0.9102 - lr: 0.0050\n",
            "Epoch 10/10\n",
            "1500/1500 [==============================] - 32s 21ms/step - loss: 0.2376 - accuracy: 0.9142 - lr: 0.0050\n"
          ]
        }
      ],
      "source": [
        "#Train Model\n",
        "train_model = model.fit(\n",
        "    X_train, Y_train,\n",
        "    batch_size=32,\n",
        "    steps_per_epoch = 1500,\n",
        "    epochs=10,\n",
        "    verbose=1,\n",
        "    callbacks=[reduce_lr, early_stop])"
      ]
    },
    {
      "cell_type": "code",
      "execution_count": null,
      "metadata": {
        "id": "SOGay8b5dC4L",
        "colab": {
          "base_uri": "https://localhost:8080/"
        },
        "outputId": "fa418b70-20cd-4a78-ad67-67b78e364153"
      },
      "outputs": [
        {
          "output_type": "stream",
          "name": "stdout",
          "text": [
            "Test loss    : 0.25102099776268005\n",
            "Test accuracy: 0.90829998254776\n"
          ]
        }
      ],
      "source": [
        "#predict\n",
        "y_pred = model.predict(X_test)\n",
        "test_loss, test_acc = model.evaluate(X_test, Y_test, verbose=0)\n",
        "\n",
        "print('Test loss    :', test_loss)\n",
        "print('Test accuracy:', test_acc)"
      ]
    }
  ],
  "metadata": {
    "colab": {
      "collapsed_sections": [],
      "name": "Lenet5_L2.ipynb",
      "provenance": []
    },
    "kernelspec": {
      "display_name": "Python 3",
      "name": "python3"
    },
    "language_info": {
      "name": "python"
    }
  },
  "nbformat": 4,
  "nbformat_minor": 0
}